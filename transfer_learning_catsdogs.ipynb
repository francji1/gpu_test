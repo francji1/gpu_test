{
 "cells": [
  {
   "cell_type": "code",
   "execution_count": 1,
   "id": "4971b586-ed72-4407-9e0e-93401a24979a",
   "metadata": {},
   "outputs": [],
   "source": [
    "import os\n",
    "import zipfile\n",
    "import requests\n",
    "import warnings\n",
    "from io import BytesIO"
   ]
  },
  {
   "cell_type": "code",
   "execution_count": 2,
   "id": "06e743c1",
   "metadata": {},
   "outputs": [],
   "source": [
    "import torch\n",
    "import torch.nn as nn\n",
    "import torch.optim as optim\n",
    "from torch.optim import Adam\n",
    "import torchvision\n",
    "import torchvision.transforms as transforms\n",
    "import torchvision.models as models\n",
    "\n",
    "from torchvision import models, datasets, transforms\n",
    "from torchviz import make_dot\n",
    "from torchsummary import summary\n",
    "from torch.utils.data import DataLoader, random_split\n",
    "\n",
    "from PIL import Image"
   ]
  },
  {
   "cell_type": "code",
   "execution_count": 3,
   "id": "e7b8fd99-ad52-48ab-b9f5-974cbb8aa33c",
   "metadata": {},
   "outputs": [],
   "source": [
    "import matplotlib\n",
    "import matplotlib.pyplot as plt\n",
    "from sklearn.metrics import accuracy_score, precision_score, recall_score\n",
    "from tqdm import tqdm"
   ]
  },
  {
   "cell_type": "code",
   "execution_count": 4,
   "id": "684848e4-93fb-4a4f-8e1b-56b94d0f06bf",
   "metadata": {},
   "outputs": [
    {
     "name": "stdout",
     "output_type": "stream",
     "text": [
      "Download completed.\n"
     ]
    }
   ],
   "source": [
    "\n",
    "# URL of the dataset\n",
    "url = 'https://download.microsoft.com/download/3/E/1/3E1C3F21-ECDB-4869-8368-6DEBA77B919F/kagglecatsanddogs_5340.zip'\n",
    "\n",
    "# Send a GET request to the URL\n",
    "response = requests.get(url)\n",
    "\n",
    "# Open the file in binary write mode and save the content\n",
    "with open(\"kagglecatsanddogs_5340.zip\", \"wb\") as file:\n",
    "    file.write(response.content)\n",
    "\n",
    "print(\"Download completed.\")\n"
   ]
  },
  {
   "cell_type": "code",
   "execution_count": 5,
   "id": "b40e10bc-46bb-4808-9e45-9a7c538f7e56",
   "metadata": {},
   "outputs": [
    {
     "name": "stdout",
     "output_type": "stream",
     "text": [
      "Extraction successful. Contents: ['Cat', 'Dog']\n"
     ]
    }
   ],
   "source": [
    "# Path to the downloaded zip file\n",
    "zip_file_path = \"kagglecatsanddogs_5340.zip\"\n",
    "\n",
    "# Extract the zip file\n",
    "with zipfile.ZipFile(zip_file_path, 'r') as zip_ref:\n",
    "    zip_ref.extractall(\".\")\n",
    "\n",
    "# Checking the contents of the extracted directory\n",
    "if os.path.exists('PetImages'):\n",
    "    print(\"Extraction successful. Contents:\", os.listdir('PetImages'))\n",
    "else:\n",
    "    print(\"Extraction failed or 'PetImages' directory not found.\")"
   ]
  },
  {
   "cell_type": "code",
   "execution_count": 6,
   "id": "89c004ab-cee5-4745-a6d9-2c7bd1444223",
   "metadata": {},
   "outputs": [
    {
     "name": "stdout",
     "output_type": "stream",
     "text": [
      "Deleting PetImages\\Cat\\10392.jpg...\n",
      "Deleting PetImages\\Cat\\10893.jpg...\n",
      "Deleting PetImages\\Cat\\11091.jpg...\n",
      "Deleting PetImages\\Cat\\1423.jpg...\n",
      "Deleting PetImages\\Cat\\2433.jpg...\n",
      "Deleting PetImages\\Cat\\3641.jpg...\n",
      "Deleting PetImages\\Cat\\4577.jpg...\n",
      "Deleting PetImages\\Cat\\4833.jpg...\n",
      "Deleting PetImages\\Cat\\485.jpg...\n",
      "Deleting PetImages\\Cat\\5257.jpg...\n",
      "Deleting PetImages\\Cat\\5527.jpg...\n",
      "Deleting PetImages\\Cat\\5534.jpg...\n",
      "Deleting PetImages\\Cat\\5673.jpg...\n",
      "Deleting PetImages\\Cat\\5954.jpg...\n",
      "Deleting PetImages\\Cat\\596.jpg...\n",
      "Deleting PetImages\\Cat\\6402.jpg...\n",
      "Deleting PetImages\\Cat\\6614.jpg...\n",
      "Deleting PetImages\\Cat\\666.jpg...\n",
      "Deleting PetImages\\Cat\\7314.jpg...\n",
      "Deleting PetImages\\Cat\\7487.jpg...\n",
      "Deleting PetImages\\Cat\\7968.jpg...\n",
      "Deleting PetImages\\Cat\\835.jpg...\n",
      "Deleting PetImages\\Cat\\8470.jpg...\n",
      "Deleting PetImages\\Dog\\10155.jpg...\n",
      "Deleting PetImages\\Dog\\10385.jpg...\n",
      "Deleting PetImages\\Dog\\10654.jpg...\n",
      "Deleting PetImages\\Dog\\11248.jpg...\n",
      "Deleting PetImages\\Dog\\11465.jpg...\n",
      "Deleting PetImages\\Dog\\11686.jpg...\n",
      "Deleting PetImages\\Dog\\11702.jpg...\n",
      "Deleting PetImages\\Dog\\1174.jpg...\n",
      "Deleting PetImages\\Dog\\11775.jpg...\n",
      "Deleting PetImages\\Dog\\12322.jpg...\n",
      "Deleting PetImages\\Dog\\1324.jpg...\n",
      "Deleting PetImages\\Dog\\2068.jpg...\n",
      "Deleting PetImages\\Dog\\2188.jpg...\n",
      "Deleting PetImages\\Dog\\2476.jpg...\n",
      "Deleting PetImages\\Dog\\2652.jpg...\n",
      "Deleting PetImages\\Dog\\2965.jpg...\n",
      "Deleting PetImages\\Dog\\3147.jpg...\n",
      "Deleting PetImages\\Dog\\4367.jpg...\n",
      "Deleting PetImages\\Dog\\5152.jpg...\n",
      "Deleting PetImages\\Dog\\630.jpg...\n",
      "Deleting PetImages\\Dog\\7011.jpg...\n",
      "Deleting PetImages\\Dog\\7421.jpg...\n",
      "Deleting PetImages\\Dog\\7602.jpg...\n",
      "Deleting PetImages\\Dog\\7765.jpg...\n",
      "Deleting PetImages\\Dog\\8450.jpg...\n",
      "Deleting PetImages\\Dog\\8570.jpg...\n",
      "Deleting PetImages\\Dog\\8987.jpg...\n",
      "Deleting PetImages\\Dog\\927.jpg...\n",
      "Deleting PetImages\\Dog\\9456.jpg...\n",
      "Deleting PetImages\\Dog\\9678.jpg...\n",
      "Deleting PetImages\\Dog\\9705.jpg...\n"
     ]
    }
   ],
   "source": [
    "def delete_small_files(directory, size_threshold=2048):\n",
    "    \"\"\"\n",
    "    Delete files smaller than a specified size in a directory.\n",
    "\n",
    "    :param directory: Path to the directory to scan for small files.\n",
    "    :param size_threshold: File size threshold in bytes (default is 1024 bytes for 1KB).\n",
    "    \"\"\"\n",
    "    for root, dirs, files in os.walk(directory):\n",
    "        for file in files:\n",
    "            file_path = os.path.join(root, file)\n",
    "\n",
    "            # Check if file size is smaller than the threshold\n",
    "            if os.path.getsize(file_path) < size_threshold:\n",
    "                print(f\"Deleting {file_path}...\")\n",
    "                os.remove(file_path)\n",
    "\n",
    "delete_small_files('PetImages')"
   ]
  },
  {
   "cell_type": "code",
   "execution_count": 7,
   "id": "d3500fa0-8c8f-4f1b-ab7f-03f37c1bfd8e",
   "metadata": {},
   "outputs": [],
   "source": [
    "# class RobustImageFolder(datasets.ImageFolder):\n",
    "#     def __getitem__(self, index):\n",
    "#         # Loop to skip over corrupt images\n",
    "#         while True:\n",
    "#             try:\n",
    "#                 path, target = self.samples[index]\n",
    "#                 sample = self.loader(path)\n",
    "#                 if self.transform is not None:\n",
    "#                     sample = self.transform(sample)\n",
    "#                 if self.target_transform is not None:\n",
    "#                     target = self.target_transform(target)\n",
    "#                 return sample, target\n",
    "#             except (IOError, SyntaxError) as e:\n",
    "#                 print(f\"Corrupted image found: {path}, skipping.\")\n",
    "#                 index = (index + 1) % len(self.samples)\n",
    "#             except UserWarning as e:\n",
    "#                 warnings.warn(str(e))\n",
    "#                 # Handle specific warning here, e.g., skip or use a default image\n",
    "#                 print(f\"Some other error: {path}, skipping.\")\n",
    "#                 index = (index + 1) % len(self.samples)\n",
    "\n",
    "class RobustImageFolder(datasets.ImageFolder):\n",
    "    def __getitem__(self, index):\n",
    "        while True:\n",
    "            try:\n",
    "                path, target = self.samples[index]\n",
    "                sample = self.loader(path)\n",
    "                if self.transform is not None:\n",
    "                    sample = self.transform(sample)\n",
    "                if self.target_transform is not None:\n",
    "                    target = self.target_transform(target)\n",
    "                return sample, target\n",
    "            except Exception as e:\n",
    "                print(f\"Error with image {path}: {e}, skipping.\")\n",
    "                index = (index + 1) % len(self.samples)"
   ]
  },
  {
   "cell_type": "code",
   "execution_count": 8,
   "id": "d7d548c6-1d27-4a65-8fb4-f5c93cdb0ab5",
   "metadata": {},
   "outputs": [],
   "source": [
    "\n",
    "# Define transformations\n",
    "transform = transforms.Compose([\n",
    "    transforms.Resize((224, 224)),\n",
    "    transforms.ToTensor(),\n",
    "    transforms.Normalize(mean=[0.485, 0.456, 0.406], std=[0.229, 0.224, 0.225]),\n",
    "])\n",
    "\n",
    "# Load the dataset\n",
    "#full_dataset = datasets.ImageFolder(root='PetImages', transform=transform)\n",
    "# Load the dataset using RobustImageFolder\n",
    "full_dataset = RobustImageFolder(root='PetImages', transform=transform)\n",
    "\n",
    "\n",
    "# Split the dataset into training and testing sets\n",
    "train_size = int(0.8 * len(full_dataset))  # 80% of the dataset for training\n",
    "test_size = len(full_dataset) - train_size  # the rest for testing\n",
    "train_dataset, test_dataset = random_split(full_dataset, [train_size, test_size])\n",
    "\n",
    "# Create DataLoaders for training and testing\n",
    "train_loader = DataLoader(train_dataset, batch_size=128, shuffle=True)\n",
    "test_loader = DataLoader(test_dataset, batch_size=128, shuffle=False)\n"
   ]
  },
  {
   "cell_type": "code",
   "execution_count": null,
   "id": "09d50e70-ad37-46bf-a9ee-d526100c3c22",
   "metadata": {},
   "outputs": [],
   "source": []
  },
  {
   "cell_type": "code",
   "execution_count": 9,
   "id": "5324fb70",
   "metadata": {},
   "outputs": [
    {
     "name": "stdout",
     "output_type": "stream",
     "text": [
      "cuda:0\n",
      "ResNet(\n",
      "  (conv1): Conv2d(3, 64, kernel_size=(7, 7), stride=(2, 2), padding=(3, 3), bias=False)\n",
      "  (bn1): BatchNorm2d(64, eps=1e-05, momentum=0.1, affine=True, track_running_stats=True)\n",
      "  (relu): ReLU(inplace=True)\n",
      "  (maxpool): MaxPool2d(kernel_size=3, stride=2, padding=1, dilation=1, ceil_mode=False)\n",
      "  (layer1): Sequential(\n",
      "    (0): BasicBlock(\n",
      "      (conv1): Conv2d(64, 64, kernel_size=(3, 3), stride=(1, 1), padding=(1, 1), bias=False)\n",
      "      (bn1): BatchNorm2d(64, eps=1e-05, momentum=0.1, affine=True, track_running_stats=True)\n",
      "      (relu): ReLU(inplace=True)\n",
      "      (conv2): Conv2d(64, 64, kernel_size=(3, 3), stride=(1, 1), padding=(1, 1), bias=False)\n",
      "      (bn2): BatchNorm2d(64, eps=1e-05, momentum=0.1, affine=True, track_running_stats=True)\n",
      "    )\n",
      "    (1): BasicBlock(\n",
      "      (conv1): Conv2d(64, 64, kernel_size=(3, 3), stride=(1, 1), padding=(1, 1), bias=False)\n",
      "      (bn1): BatchNorm2d(64, eps=1e-05, momentum=0.1, affine=True, track_running_stats=True)\n",
      "      (relu): ReLU(inplace=True)\n",
      "      (conv2): Conv2d(64, 64, kernel_size=(3, 3), stride=(1, 1), padding=(1, 1), bias=False)\n",
      "      (bn2): BatchNorm2d(64, eps=1e-05, momentum=0.1, affine=True, track_running_stats=True)\n",
      "    )\n",
      "  )\n",
      "  (layer2): Sequential(\n",
      "    (0): BasicBlock(\n",
      "      (conv1): Conv2d(64, 128, kernel_size=(3, 3), stride=(2, 2), padding=(1, 1), bias=False)\n",
      "      (bn1): BatchNorm2d(128, eps=1e-05, momentum=0.1, affine=True, track_running_stats=True)\n",
      "      (relu): ReLU(inplace=True)\n",
      "      (conv2): Conv2d(128, 128, kernel_size=(3, 3), stride=(1, 1), padding=(1, 1), bias=False)\n",
      "      (bn2): BatchNorm2d(128, eps=1e-05, momentum=0.1, affine=True, track_running_stats=True)\n",
      "      (downsample): Sequential(\n",
      "        (0): Conv2d(64, 128, kernel_size=(1, 1), stride=(2, 2), bias=False)\n",
      "        (1): BatchNorm2d(128, eps=1e-05, momentum=0.1, affine=True, track_running_stats=True)\n",
      "      )\n",
      "    )\n",
      "    (1): BasicBlock(\n",
      "      (conv1): Conv2d(128, 128, kernel_size=(3, 3), stride=(1, 1), padding=(1, 1), bias=False)\n",
      "      (bn1): BatchNorm2d(128, eps=1e-05, momentum=0.1, affine=True, track_running_stats=True)\n",
      "      (relu): ReLU(inplace=True)\n",
      "      (conv2): Conv2d(128, 128, kernel_size=(3, 3), stride=(1, 1), padding=(1, 1), bias=False)\n",
      "      (bn2): BatchNorm2d(128, eps=1e-05, momentum=0.1, affine=True, track_running_stats=True)\n",
      "    )\n",
      "  )\n",
      "  (layer3): Sequential(\n",
      "    (0): BasicBlock(\n",
      "      (conv1): Conv2d(128, 256, kernel_size=(3, 3), stride=(2, 2), padding=(1, 1), bias=False)\n",
      "      (bn1): BatchNorm2d(256, eps=1e-05, momentum=0.1, affine=True, track_running_stats=True)\n",
      "      (relu): ReLU(inplace=True)\n",
      "      (conv2): Conv2d(256, 256, kernel_size=(3, 3), stride=(1, 1), padding=(1, 1), bias=False)\n",
      "      (bn2): BatchNorm2d(256, eps=1e-05, momentum=0.1, affine=True, track_running_stats=True)\n",
      "      (downsample): Sequential(\n",
      "        (0): Conv2d(128, 256, kernel_size=(1, 1), stride=(2, 2), bias=False)\n",
      "        (1): BatchNorm2d(256, eps=1e-05, momentum=0.1, affine=True, track_running_stats=True)\n",
      "      )\n",
      "    )\n",
      "    (1): BasicBlock(\n",
      "      (conv1): Conv2d(256, 256, kernel_size=(3, 3), stride=(1, 1), padding=(1, 1), bias=False)\n",
      "      (bn1): BatchNorm2d(256, eps=1e-05, momentum=0.1, affine=True, track_running_stats=True)\n",
      "      (relu): ReLU(inplace=True)\n",
      "      (conv2): Conv2d(256, 256, kernel_size=(3, 3), stride=(1, 1), padding=(1, 1), bias=False)\n",
      "      (bn2): BatchNorm2d(256, eps=1e-05, momentum=0.1, affine=True, track_running_stats=True)\n",
      "    )\n",
      "  )\n",
      "  (layer4): Sequential(\n",
      "    (0): BasicBlock(\n",
      "      (conv1): Conv2d(256, 512, kernel_size=(3, 3), stride=(2, 2), padding=(1, 1), bias=False)\n",
      "      (bn1): BatchNorm2d(512, eps=1e-05, momentum=0.1, affine=True, track_running_stats=True)\n",
      "      (relu): ReLU(inplace=True)\n",
      "      (conv2): Conv2d(512, 512, kernel_size=(3, 3), stride=(1, 1), padding=(1, 1), bias=False)\n",
      "      (bn2): BatchNorm2d(512, eps=1e-05, momentum=0.1, affine=True, track_running_stats=True)\n",
      "      (downsample): Sequential(\n",
      "        (0): Conv2d(256, 512, kernel_size=(1, 1), stride=(2, 2), bias=False)\n",
      "        (1): BatchNorm2d(512, eps=1e-05, momentum=0.1, affine=True, track_running_stats=True)\n",
      "      )\n",
      "    )\n",
      "    (1): BasicBlock(\n",
      "      (conv1): Conv2d(512, 512, kernel_size=(3, 3), stride=(1, 1), padding=(1, 1), bias=False)\n",
      "      (bn1): BatchNorm2d(512, eps=1e-05, momentum=0.1, affine=True, track_running_stats=True)\n",
      "      (relu): ReLU(inplace=True)\n",
      "      (conv2): Conv2d(512, 512, kernel_size=(3, 3), stride=(1, 1), padding=(1, 1), bias=False)\n",
      "      (bn2): BatchNorm2d(512, eps=1e-05, momentum=0.1, affine=True, track_running_stats=True)\n",
      "    )\n",
      "  )\n",
      "  (avgpool): AdaptiveAvgPool2d(output_size=(1, 1))\n",
      "  (fc): Linear(in_features=512, out_features=2, bias=True)\n",
      ")\n"
     ]
    }
   ],
   "source": [
    "\n",
    "# Loading a pretrained model (ResNet18) and modifying it for binary classification\n",
    "model = models.resnet18(weights='ResNet18_Weights.DEFAULT')\n",
    "num_ftrs = model.fc.in_features\n",
    "model.fc = nn.Linear(num_ftrs, 2)  # Modifying for 2 classes: Cats and Dogs\n",
    "\n",
    "# Checking if GPU is available and moving the model to GPU\n",
    "device = torch.device(\"cuda:0\" if torch.cuda.is_available() else \"cpu\")\n",
    "print(device)\n",
    "model = model.to(device)\n",
    "print(model)"
   ]
  },
  {
   "cell_type": "code",
   "execution_count": 10,
   "id": "034b66df-cd9b-4114-bfbb-d1ebb6eb473b",
   "metadata": {},
   "outputs": [
    {
     "name": "stdout",
     "output_type": "stream",
     "text": [
      "----------------------------------------------------------------\n",
      "        Layer (type)               Output Shape         Param #\n",
      "================================================================\n",
      "            Conv2d-1         [-1, 64, 112, 112]           9,408\n",
      "       BatchNorm2d-2         [-1, 64, 112, 112]             128\n",
      "              ReLU-3         [-1, 64, 112, 112]               0\n",
      "         MaxPool2d-4           [-1, 64, 56, 56]               0\n",
      "            Conv2d-5           [-1, 64, 56, 56]          36,864\n",
      "       BatchNorm2d-6           [-1, 64, 56, 56]             128\n",
      "              ReLU-7           [-1, 64, 56, 56]               0\n",
      "            Conv2d-8           [-1, 64, 56, 56]          36,864\n",
      "       BatchNorm2d-9           [-1, 64, 56, 56]             128\n",
      "             ReLU-10           [-1, 64, 56, 56]               0\n",
      "       BasicBlock-11           [-1, 64, 56, 56]               0\n",
      "           Conv2d-12           [-1, 64, 56, 56]          36,864\n",
      "      BatchNorm2d-13           [-1, 64, 56, 56]             128\n",
      "             ReLU-14           [-1, 64, 56, 56]               0\n",
      "           Conv2d-15           [-1, 64, 56, 56]          36,864\n",
      "      BatchNorm2d-16           [-1, 64, 56, 56]             128\n",
      "             ReLU-17           [-1, 64, 56, 56]               0\n",
      "       BasicBlock-18           [-1, 64, 56, 56]               0\n",
      "           Conv2d-19          [-1, 128, 28, 28]          73,728\n",
      "      BatchNorm2d-20          [-1, 128, 28, 28]             256\n",
      "             ReLU-21          [-1, 128, 28, 28]               0\n",
      "           Conv2d-22          [-1, 128, 28, 28]         147,456\n",
      "      BatchNorm2d-23          [-1, 128, 28, 28]             256\n",
      "           Conv2d-24          [-1, 128, 28, 28]           8,192\n",
      "      BatchNorm2d-25          [-1, 128, 28, 28]             256\n",
      "             ReLU-26          [-1, 128, 28, 28]               0\n",
      "       BasicBlock-27          [-1, 128, 28, 28]               0\n",
      "           Conv2d-28          [-1, 128, 28, 28]         147,456\n",
      "      BatchNorm2d-29          [-1, 128, 28, 28]             256\n",
      "             ReLU-30          [-1, 128, 28, 28]               0\n",
      "           Conv2d-31          [-1, 128, 28, 28]         147,456\n",
      "      BatchNorm2d-32          [-1, 128, 28, 28]             256\n",
      "             ReLU-33          [-1, 128, 28, 28]               0\n",
      "       BasicBlock-34          [-1, 128, 28, 28]               0\n",
      "           Conv2d-35          [-1, 256, 14, 14]         294,912\n",
      "      BatchNorm2d-36          [-1, 256, 14, 14]             512\n",
      "             ReLU-37          [-1, 256, 14, 14]               0\n",
      "           Conv2d-38          [-1, 256, 14, 14]         589,824\n",
      "      BatchNorm2d-39          [-1, 256, 14, 14]             512\n",
      "           Conv2d-40          [-1, 256, 14, 14]          32,768\n",
      "      BatchNorm2d-41          [-1, 256, 14, 14]             512\n",
      "             ReLU-42          [-1, 256, 14, 14]               0\n",
      "       BasicBlock-43          [-1, 256, 14, 14]               0\n",
      "           Conv2d-44          [-1, 256, 14, 14]         589,824\n",
      "      BatchNorm2d-45          [-1, 256, 14, 14]             512\n",
      "             ReLU-46          [-1, 256, 14, 14]               0\n",
      "           Conv2d-47          [-1, 256, 14, 14]         589,824\n",
      "      BatchNorm2d-48          [-1, 256, 14, 14]             512\n",
      "             ReLU-49          [-1, 256, 14, 14]               0\n",
      "       BasicBlock-50          [-1, 256, 14, 14]               0\n",
      "           Conv2d-51            [-1, 512, 7, 7]       1,179,648\n",
      "      BatchNorm2d-52            [-1, 512, 7, 7]           1,024\n",
      "             ReLU-53            [-1, 512, 7, 7]               0\n",
      "           Conv2d-54            [-1, 512, 7, 7]       2,359,296\n",
      "      BatchNorm2d-55            [-1, 512, 7, 7]           1,024\n",
      "           Conv2d-56            [-1, 512, 7, 7]         131,072\n",
      "      BatchNorm2d-57            [-1, 512, 7, 7]           1,024\n",
      "             ReLU-58            [-1, 512, 7, 7]               0\n",
      "       BasicBlock-59            [-1, 512, 7, 7]               0\n",
      "           Conv2d-60            [-1, 512, 7, 7]       2,359,296\n",
      "      BatchNorm2d-61            [-1, 512, 7, 7]           1,024\n",
      "             ReLU-62            [-1, 512, 7, 7]               0\n",
      "           Conv2d-63            [-1, 512, 7, 7]       2,359,296\n",
      "      BatchNorm2d-64            [-1, 512, 7, 7]           1,024\n",
      "             ReLU-65            [-1, 512, 7, 7]               0\n",
      "       BasicBlock-66            [-1, 512, 7, 7]               0\n",
      "AdaptiveAvgPool2d-67            [-1, 512, 1, 1]               0\n",
      "           Linear-68                    [-1, 2]           1,026\n",
      "================================================================\n",
      "Total params: 11,177,538\n",
      "Trainable params: 11,177,538\n",
      "Non-trainable params: 0\n",
      "----------------------------------------------------------------\n",
      "Input size (MB): 0.57\n",
      "Forward/backward pass size (MB): 62.79\n",
      "Params size (MB): 42.64\n",
      "Estimated Total Size (MB): 106.00\n",
      "----------------------------------------------------------------\n"
     ]
    }
   ],
   "source": [
    "# 'transform' is our transformation pipeline\n",
    "resize_transform = [t for t in transform.transforms if isinstance(t, transforms.Resize)]\n",
    "if resize_transform:\n",
    "    input_size = resize_transform[0].size\n",
    "else:\n",
    "    input_size = (224, 224)  # Default size or a fallback option\n",
    "\n",
    "# Convert the size to the format expected by torchsummary\n",
    "input_shape = (3, input_size[0], input_size[1])\n",
    "\n",
    "# Using torchsummary\n",
    "summary(model, input_shape)"
   ]
  },
  {
   "cell_type": "code",
   "execution_count": null,
   "id": "27d28749-189c-4bed-bd83-4b760e402c62",
   "metadata": {},
   "outputs": [],
   "source": [
    "\n"
   ]
  },
  {
   "cell_type": "code",
   "execution_count": 12,
   "id": "7522a0a5-0a2b-4df2-bae9-52e0e9f73fc3",
   "metadata": {},
   "outputs": [],
   "source": [
    "class ModifiedResNet(nn.Module):\n",
    "    def __init__(self):\n",
    "        super(ModifiedResNet, self).__init__()\n",
    "        # Load a pre-trained ResNet\n",
    "        original_model = models.resnet18(weights=models.ResNet18_Weights.DEFAULT)\n",
    "\n",
    "        # Everything except the last layer\n",
    "        self.features = nn.Sequential(*list(original_model.children())[:-2])\n",
    "\n",
    "        # Flatten operation\n",
    "        self.flatten = nn.Flatten()\n",
    "\n",
    "        # Fully connected layers\n",
    "        self.fc1 = nn.Linear(512 * 7 * 7, 512)\n",
    "        self.fc2 = nn.Linear(512, 128)\n",
    "        self.fc3 = nn.Linear(128, 2)  # Final layer for binary classification\n",
    "\n",
    "    def forward(self, x):\n",
    "        # Apply the feature extractor\n",
    "        x = self.features(x)\n",
    "\n",
    "        # Flatten the output\n",
    "        x = self.flatten(x)\n",
    "\n",
    "        # Apply the fully connected layers with ReLU activations\n",
    "        x = nn.ReLU()(self.fc1(x))\n",
    "        x = nn.ReLU()(self.fc2(x))\n",
    "        x = self.fc3(x)\n",
    "\n",
    "        return x\n",
    "\n",
    "    def unfreeze(self):\n",
    "        # Unfreeze all layers\n",
    "        for param in self.parameters():\n",
    "            param.requires_grad = True\n"
   ]
  },
  {
   "cell_type": "code",
   "execution_count": null,
   "id": "e5be74d0-fad2-4a9f-a223-a2344c9c5001",
   "metadata": {},
   "outputs": [],
   "source": []
  },
  {
   "cell_type": "code",
   "execution_count": 13,
   "id": "3940fa97-f3a4-445e-929e-fdc0aebb6bbb",
   "metadata": {},
   "outputs": [
    {
     "name": "stdout",
     "output_type": "stream",
     "text": [
      "cuda:0\n",
      "----------------------------------------------------------------\n",
      "        Layer (type)               Output Shape         Param #\n",
      "================================================================\n",
      "            Conv2d-1         [-1, 64, 112, 112]           9,408\n",
      "       BatchNorm2d-2         [-1, 64, 112, 112]             128\n",
      "              ReLU-3         [-1, 64, 112, 112]               0\n",
      "         MaxPool2d-4           [-1, 64, 56, 56]               0\n",
      "            Conv2d-5           [-1, 64, 56, 56]          36,864\n",
      "       BatchNorm2d-6           [-1, 64, 56, 56]             128\n",
      "              ReLU-7           [-1, 64, 56, 56]               0\n",
      "            Conv2d-8           [-1, 64, 56, 56]          36,864\n",
      "       BatchNorm2d-9           [-1, 64, 56, 56]             128\n",
      "             ReLU-10           [-1, 64, 56, 56]               0\n",
      "       BasicBlock-11           [-1, 64, 56, 56]               0\n",
      "           Conv2d-12           [-1, 64, 56, 56]          36,864\n",
      "      BatchNorm2d-13           [-1, 64, 56, 56]             128\n",
      "             ReLU-14           [-1, 64, 56, 56]               0\n",
      "           Conv2d-15           [-1, 64, 56, 56]          36,864\n",
      "      BatchNorm2d-16           [-1, 64, 56, 56]             128\n",
      "             ReLU-17           [-1, 64, 56, 56]               0\n",
      "       BasicBlock-18           [-1, 64, 56, 56]               0\n",
      "           Conv2d-19          [-1, 128, 28, 28]          73,728\n",
      "      BatchNorm2d-20          [-1, 128, 28, 28]             256\n",
      "             ReLU-21          [-1, 128, 28, 28]               0\n",
      "           Conv2d-22          [-1, 128, 28, 28]         147,456\n",
      "      BatchNorm2d-23          [-1, 128, 28, 28]             256\n",
      "           Conv2d-24          [-1, 128, 28, 28]           8,192\n",
      "      BatchNorm2d-25          [-1, 128, 28, 28]             256\n",
      "             ReLU-26          [-1, 128, 28, 28]               0\n",
      "       BasicBlock-27          [-1, 128, 28, 28]               0\n",
      "           Conv2d-28          [-1, 128, 28, 28]         147,456\n",
      "      BatchNorm2d-29          [-1, 128, 28, 28]             256\n",
      "             ReLU-30          [-1, 128, 28, 28]               0\n",
      "           Conv2d-31          [-1, 128, 28, 28]         147,456\n",
      "      BatchNorm2d-32          [-1, 128, 28, 28]             256\n",
      "             ReLU-33          [-1, 128, 28, 28]               0\n",
      "       BasicBlock-34          [-1, 128, 28, 28]               0\n",
      "           Conv2d-35          [-1, 256, 14, 14]         294,912\n",
      "      BatchNorm2d-36          [-1, 256, 14, 14]             512\n",
      "             ReLU-37          [-1, 256, 14, 14]               0\n",
      "           Conv2d-38          [-1, 256, 14, 14]         589,824\n",
      "      BatchNorm2d-39          [-1, 256, 14, 14]             512\n",
      "           Conv2d-40          [-1, 256, 14, 14]          32,768\n",
      "      BatchNorm2d-41          [-1, 256, 14, 14]             512\n",
      "             ReLU-42          [-1, 256, 14, 14]               0\n",
      "       BasicBlock-43          [-1, 256, 14, 14]               0\n",
      "           Conv2d-44          [-1, 256, 14, 14]         589,824\n",
      "      BatchNorm2d-45          [-1, 256, 14, 14]             512\n",
      "             ReLU-46          [-1, 256, 14, 14]               0\n",
      "           Conv2d-47          [-1, 256, 14, 14]         589,824\n",
      "      BatchNorm2d-48          [-1, 256, 14, 14]             512\n",
      "             ReLU-49          [-1, 256, 14, 14]               0\n",
      "       BasicBlock-50          [-1, 256, 14, 14]               0\n",
      "           Conv2d-51            [-1, 512, 7, 7]       1,179,648\n",
      "      BatchNorm2d-52            [-1, 512, 7, 7]           1,024\n",
      "             ReLU-53            [-1, 512, 7, 7]               0\n",
      "           Conv2d-54            [-1, 512, 7, 7]       2,359,296\n",
      "      BatchNorm2d-55            [-1, 512, 7, 7]           1,024\n",
      "           Conv2d-56            [-1, 512, 7, 7]         131,072\n",
      "      BatchNorm2d-57            [-1, 512, 7, 7]           1,024\n",
      "             ReLU-58            [-1, 512, 7, 7]               0\n",
      "       BasicBlock-59            [-1, 512, 7, 7]               0\n",
      "           Conv2d-60            [-1, 512, 7, 7]       2,359,296\n",
      "      BatchNorm2d-61            [-1, 512, 7, 7]           1,024\n",
      "             ReLU-62            [-1, 512, 7, 7]               0\n",
      "           Conv2d-63            [-1, 512, 7, 7]       2,359,296\n",
      "      BatchNorm2d-64            [-1, 512, 7, 7]           1,024\n",
      "             ReLU-65            [-1, 512, 7, 7]               0\n",
      "       BasicBlock-66            [-1, 512, 7, 7]               0\n",
      "          Flatten-67                [-1, 25088]               0\n",
      "           Linear-68                  [-1, 512]      12,845,568\n",
      "           Linear-69                  [-1, 128]          65,664\n",
      "           Linear-70                    [-1, 2]             258\n",
      "================================================================\n",
      "Total params: 24,088,002\n",
      "Trainable params: 24,088,002\n",
      "Non-trainable params: 0\n",
      "----------------------------------------------------------------\n",
      "Input size (MB): 0.57\n",
      "Forward/backward pass size (MB): 62.98\n",
      "Params size (MB): 91.89\n",
      "Estimated Total Size (MB): 155.44\n",
      "----------------------------------------------------------------\n"
     ]
    }
   ],
   "source": [
    "# Instantiate the modified model\n",
    "modified_model = ModifiedResNet()\n",
    "\n",
    "# Check if GPU is available and move the model to GPU\n",
    "device = torch.device(\"cuda:0\" if torch.cuda.is_available() else \"cpu\")\n",
    "print(device)\n",
    "modified_model = modified_model.to(device)\n",
    "\n",
    "# Now you can print the summary. Ensure the input tensor is also on the correct device.\n",
    "# The input shape must match the input that the network expects.\n",
    "input_shape = (3, 224, 224)  # This is the shape for a single image (channels, height, width)\n",
    "summary(modified_model, input_shape, device=device.type)  # Add batch size in the shape if necessary\n"
   ]
  },
  {
   "cell_type": "code",
   "execution_count": 14,
   "id": "575db01d-b63d-4700-93d4-ba7b38148e92",
   "metadata": {},
   "outputs": [],
   "source": [
    "## Assuming 'model' is your PyTorch model\n",
    "## Create a dummy input tensor appropriate for your model\n",
    "#dummy_input = torch.randn(1, 3, 224, 224).to(device)  # Adjust the size as per your model's requirement\n",
    "#\n",
    "## Forward pass through the model\n",
    "#out = model(dummy_input)\n",
    "#\n",
    "## Create the visualization\n",
    "#dot = make_dot(out, params=dict(list(model.named_parameters()) + [('input', dummy_input)]))\n",
    "#\n",
    "## Save or render the visualization\n",
    "#dot.render('model_graph', format='png')  # This will save the graph as a PNG file\n"
   ]
  },
  {
   "cell_type": "code",
   "execution_count": null,
   "id": "46076d6c-3118-4c1e-915d-12d332a06f8b",
   "metadata": {},
   "outputs": [],
   "source": []
  },
  {
   "cell_type": "code",
   "execution_count": 15,
   "id": "608ccb6c-196f-4ef0-ad0b-656dab06e167",
   "metadata": {},
   "outputs": [],
   "source": [
    "model = modified_model"
   ]
  },
  {
   "cell_type": "code",
   "execution_count": 16,
   "id": "f0b1d66e",
   "metadata": {},
   "outputs": [],
   "source": [
    "# Loss function and optimizer\n",
    "criterion = nn.CrossEntropyLoss()\n",
    "#optimizer = optim.SGD(model.parameters(), lr=0.0001, momentum=0.9)\n",
    "optimizer = Adam(model.parameters(), lr=0.001)  \n"
   ]
  },
  {
   "cell_type": "code",
   "execution_count": 17,
   "id": "44e8c6b2",
   "metadata": {},
   "outputs": [],
   "source": [
    "\n",
    "# Training the model\n",
    "#for epoch in range(2):  # Looping over the dataset multiple times\n",
    "#    running_loss = 0.0\n",
    "#    for i, data in enumerate(train_loader, 0):\n",
    "#        inputs, labels = data[0].to(device), data[1].to(device)\n",
    "#\n",
    "#        optimizer.zero_grad()\n",
    "#\n",
    "#        outputs = model(inputs)\n",
    "#        loss = criterion(outputs, labels)\n",
    "#        loss.backward()\n",
    "#        optimizer.step()\n",
    "#\n",
    "#        running_loss += loss.item()\n",
    "#        if i % 100 == 99:    # Print every 100 mini-batches\n",
    "#            print(f'[{epoch + 1}, {i + 1:5d}] loss: {running_loss / 100:.3f}')\n",
    "#            running_loss = 0.0\n",
    "#\n",
    "#print('Finished Training')\n"
   ]
  },
  {
   "cell_type": "code",
   "execution_count": 18,
   "id": "c666319c-9dd2-4e4d-8712-02a6235fe84d",
   "metadata": {},
   "outputs": [
    {
     "name": "stderr",
     "output_type": "stream",
     "text": [
      "Epoch 1/10 [Training]: 100%|█████████████████████████████████████████████████████████████████████████████████████████████████████████████████████████████████████████████████████████████████████████████████████████████████████████████████████████████████████████████████████| 156/156 [02:30<00:00,  1.04it/s]\n"
     ]
    },
    {
     "name": "stdout",
     "output_type": "stream",
     "text": [
      "Epoch 1/10 Training - Accuracy: 0.9365, Precision: 0.9391, Recall: 0.9338\n"
     ]
    },
    {
     "name": "stderr",
     "output_type": "stream",
     "text": [
      "Epoch 1/10 [Testing]:  85%|█████████████████████████████████████████████████████████████████████████████████████████████████████████████████████████████████████████████████████████████████████████████████████████████████████████████████▊                                      | 33/39 [00:29<00:05,  1.12it/s]C:\\Users\\francji1\\OneDrive\\gpu_test\\venv\\Lib\\site-packages\\PIL\\TiffImagePlugin.py:850: UserWarning: Truncated File Read\n",
      "  warnings.warn(str(msg))\n",
      "                                                                                                                                                                                                                                                                                                                   \r"
     ]
    },
    {
     "name": "stdout",
     "output_type": "stream",
     "text": [
      "Epoch 1/10 Testing - Accuracy: 0.9701, Precision: 0.9762, Recall: 0.9632\n"
     ]
    },
    {
     "name": "stderr",
     "output_type": "stream",
     "text": [
      "Epoch 2/10 [Training]: 100%|█████████████████████████████████████████████████████████████████████████████████████████████████████████████████████████████████████████████████████████████████████████████████████████████████████████████████████████████████████████████████████| 156/156 [01:16<00:00,  2.03it/s]\n"
     ]
    },
    {
     "name": "stdout",
     "output_type": "stream",
     "text": [
      "Epoch 2/10 Training - Accuracy: 0.9756, Precision: 0.9762, Recall: 0.9752\n"
     ]
    },
    {
     "name": "stderr",
     "output_type": "stream",
     "text": [
      "Epoch 2/10 [Testing]:  85%|█████████████████████████████████████████████████████████████████████████████████████████████████████████████████████████████████████████████████████████████████████████████████████████████████████████████████▊                                      | 33/39 [00:13<00:02,  2.37it/s]C:\\Users\\francji1\\OneDrive\\gpu_test\\venv\\Lib\\site-packages\\PIL\\TiffImagePlugin.py:850: UserWarning: Truncated File Read\n",
      "  warnings.warn(str(msg))\n",
      "                                                                                                                                                                                                                                                                                                                   \r"
     ]
    },
    {
     "name": "stdout",
     "output_type": "stream",
     "text": [
      "Epoch 2/10 Testing - Accuracy: 0.9583, Precision: 0.9817, Recall: 0.9332\n"
     ]
    },
    {
     "name": "stderr",
     "output_type": "stream",
     "text": [
      "Epoch 3/10 [Training]: 100%|█████████████████████████████████████████████████████████████████████████████████████████████████████████████████████████████████████████████████████████████████████████████████████████████████████████████████████████████████████████████████████| 156/156 [01:15<00:00,  2.06it/s]\n"
     ]
    },
    {
     "name": "stdout",
     "output_type": "stream",
     "text": [
      "Epoch 3/10 Training - Accuracy: 0.9808, Precision: 0.9798, Recall: 0.9819\n"
     ]
    },
    {
     "name": "stderr",
     "output_type": "stream",
     "text": [
      "Epoch 3/10 [Testing]:  85%|█████████████████████████████████████████████████████████████████████████████████████████████████████████████████████████████████████████████████████████████████████████████████████████████████████████████████▊                                      | 33/39 [00:13<00:02,  2.35it/s]C:\\Users\\francji1\\OneDrive\\gpu_test\\venv\\Lib\\site-packages\\PIL\\TiffImagePlugin.py:850: UserWarning: Truncated File Read\n",
      "  warnings.warn(str(msg))\n",
      "                                                                                                                                                                                                                                                                                                                   \r"
     ]
    },
    {
     "name": "stdout",
     "output_type": "stream",
     "text": [
      "Epoch 3/10 Testing - Accuracy: 0.9503, Precision: 0.9916, Recall: 0.9073\n"
     ]
    },
    {
     "name": "stderr",
     "output_type": "stream",
     "text": [
      "Epoch 4/10 [Training]: 100%|█████████████████████████████████████████████████████████████████████████████████████████████████████████████████████████████████████████████████████████████████████████████████████████████████████████████████████████████████████████████████████| 156/156 [01:16<00:00,  2.03it/s]\n"
     ]
    },
    {
     "name": "stdout",
     "output_type": "stream",
     "text": [
      "Epoch 4/10 Training - Accuracy: 0.9831, Precision: 0.9830, Recall: 0.9833\n"
     ]
    },
    {
     "name": "stderr",
     "output_type": "stream",
     "text": [
      "Epoch 4/10 [Testing]:  85%|█████████████████████████████████████████████████████████████████████████████████████████████████████████████████████████████████████████████████████████████████████████████████████████████████████████████████▊                                      | 33/39 [00:13<00:02,  2.33it/s]C:\\Users\\francji1\\OneDrive\\gpu_test\\venv\\Lib\\site-packages\\PIL\\TiffImagePlugin.py:850: UserWarning: Truncated File Read\n",
      "  warnings.warn(str(msg))\n",
      "                                                                                                                                                                                                                                                                                                                   \r"
     ]
    },
    {
     "name": "stdout",
     "output_type": "stream",
     "text": [
      "Epoch 4/10 Testing - Accuracy: 0.9591, Precision: 0.9813, Recall: 0.9352\n"
     ]
    },
    {
     "name": "stderr",
     "output_type": "stream",
     "text": [
      "Epoch 5/10 [Training]: 100%|█████████████████████████████████████████████████████████████████████████████████████████████████████████████████████████████████████████████████████████████████████████████████████████████████████████████████████████████████████████████████████| 156/156 [01:13<00:00,  2.12it/s]\n"
     ]
    },
    {
     "name": "stdout",
     "output_type": "stream",
     "text": [
      "Epoch 5/10 Training - Accuracy: 0.9860, Precision: 0.9861, Recall: 0.9859\n"
     ]
    },
    {
     "name": "stderr",
     "output_type": "stream",
     "text": [
      "Epoch 5/10 [Testing]:  85%|█████████████████████████████████████████████████████████████████████████████████████████████████████████████████████████████████████████████████████████████████████████████████████████████████████████████████▊                                      | 33/39 [00:13<00:02,  2.30it/s]C:\\Users\\francji1\\OneDrive\\gpu_test\\venv\\Lib\\site-packages\\PIL\\TiffImagePlugin.py:850: UserWarning: Truncated File Read\n",
      "  warnings.warn(str(msg))\n",
      "                                                                                                                                                                                                                                                                                                                   \r"
     ]
    },
    {
     "name": "stdout",
     "output_type": "stream",
     "text": [
      "Epoch 5/10 Testing - Accuracy: 0.9709, Precision: 0.9663, Recall: 0.9753\n"
     ]
    },
    {
     "name": "stderr",
     "output_type": "stream",
     "text": [
      "Epoch 6/10 [Training]: 100%|█████████████████████████████████████████████████████████████████████████████████████████████████████████████████████████████████████████████████████████████████████████████████████████████████████████████████████████████████████████████████████| 156/156 [01:12<00:00,  2.16it/s]\n"
     ]
    },
    {
     "name": "stdout",
     "output_type": "stream",
     "text": [
      "Epoch 6/10 Training - Accuracy: 0.9885, Precision: 0.9881, Recall: 0.9889\n"
     ]
    },
    {
     "name": "stderr",
     "output_type": "stream",
     "text": [
      "Epoch 6/10 [Testing]:  85%|█████████████████████████████████████████████████████████████████████████████████████████████████████████████████████████████████████████████████████████████████████████████████████████████████████████████████▊                                      | 33/39 [00:13<00:02,  2.33it/s]C:\\Users\\francji1\\OneDrive\\gpu_test\\venv\\Lib\\site-packages\\PIL\\TiffImagePlugin.py:850: UserWarning: Truncated File Read\n",
      "  warnings.warn(str(msg))\n",
      "                                                                                                                                                                                                                                                                                                                   \r"
     ]
    },
    {
     "name": "stdout",
     "output_type": "stream",
     "text": [
      "Epoch 6/10 Testing - Accuracy: 0.9653, Precision: 0.9881, Recall: 0.9413\n"
     ]
    },
    {
     "data": {
      "image/png": "[encoded data removed]",
      "text/plain": [
       "<Figure size 1200x400 with 3 Axes>"
      ]
     },
     "metadata": {},
     "output_type": "display_data"
    }
   ],
   "source": [
    "train_accuracies, train_precisions, train_recalls = [], [], []\n",
    "test_accuracies, test_precisions, test_recalls = [], [], []\n",
    "n_epochs = 6\n",
    "\n",
    "for epoch in range(n_epochs):\n",
    "    # Variables to store predictions and labels for the training dataset\n",
    "    train_labels = []\n",
    "    train_predictions = []\n",
    "\n",
    "    # Training loop with progress bar\n",
    "    model.train()  # Set the model to training mode\n",
    "    train_progress_bar = tqdm(train_loader, desc=f'Epoch {epoch+1}/{n_epochs} [Training]')\n",
    "    for inputs, labels in train_progress_bar:\n",
    "        inputs, labels = inputs.to(device), labels.to(device)\n",
    "\n",
    "        optimizer.zero_grad()\n",
    "        outputs = model(inputs)\n",
    "        loss = criterion(outputs, labels)\n",
    "        loss.backward()\n",
    "        optimizer.step()\n",
    "\n",
    "        _, predicted = torch.max(outputs.data, 1)\n",
    "        train_predictions.extend(predicted.cpu().numpy())\n",
    "        train_labels.extend(labels.cpu().numpy())\n",
    "\n",
    "    # Calculate and print training metrics\n",
    "    train_accuracy = accuracy_score(train_labels, train_predictions)\n",
    "    train_precision = precision_score(train_labels, train_predictions, average='binary')\n",
    "    train_recall = recall_score(train_labels, train_predictions, average='binary')\n",
    "    train_accuracies.append(train_accuracy)\n",
    "    train_precisions.append(train_precision)\n",
    "    train_recalls.append(train_recall)\n",
    "    print(f'Epoch {epoch+1}/{n_epochs} Training - Accuracy: {train_accuracy:.4f}, Precision: {train_precision:.4f}, Recall: {train_recall:.4f}')\n",
    "\n",
    "    # Variables to store predictions and labels for the testing dataset\n",
    "    test_labels = []\n",
    "    test_predictions = []\n",
    "\n",
    "    # Testing loop with progress bar\n",
    "    model.eval()  # Set the model to evaluation mode\n",
    "    test_progress_bar = tqdm(test_loader, desc=f'Epoch {epoch+1}/{10} [Testing]', leave=False)\n",
    "    with torch.no_grad():\n",
    "        for inputs, labels in test_progress_bar:\n",
    "            inputs, labels = inputs.to(device), labels.to(device)\n",
    "            outputs = model(inputs)\n",
    "            _, predicted = torch.max(outputs.data, 1)\n",
    "            test_predictions.extend(predicted.cpu().numpy())\n",
    "            test_labels.extend(labels.cpu().numpy())\n",
    "\n",
    "    # Calculate and print testing metrics\n",
    "    test_accuracy = accuracy_score(test_labels, test_predictions)\n",
    "    test_precision = precision_score(test_labels, test_predictions, average='binary')\n",
    "    test_recall = recall_score(test_labels, test_predictions, average='binary')\n",
    "    test_accuracies.append(test_accuracy)\n",
    "    test_precisions.append(test_precision)\n",
    "    test_recalls.append(test_recall)\n",
    "    print(f'Epoch {epoch+1}/{n_epochs} Testing - Accuracy: {test_accuracy:.4f}, Precision: {test_precision:.4f}, Recall: {test_recall:.4f}')\n",
    "\n",
    "# Plotting the metrics\n",
    "epochs = range(1, n_epochs+1)\n",
    "plt.figure(figsize=(12, 4))\n",
    "plt.subplot(1, 3, 1)\n",
    "plt.plot(epochs, train_accuracies, 'bo-', label='Train Accuracy')\n",
    "plt.plot(epochs, test_accuracies, 'ro-', label='Test Accuracy')\n",
    "plt.title('Training and Testing Accuracy')\n",
    "plt.legend()\n",
    "\n",
    "plt.subplot(1, 3, 2)\n",
    "plt.plot(epochs, train_precisions, 'bo-', label='Train Precision')\n",
    "plt.plot(epochs, test_precisions, 'ro-', label='Test Precision')\n",
    "plt.title('Training and Testing Precision')\n",
    "plt.legend()\n",
    "\n",
    "plt.subplot(1, 3, 3)\n",
    "plt.plot(epochs, train_recalls, 'bo-', label='Train Recall')\n",
    "plt.plot(epochs, test_recalls, 'ro-', label='Test Recall')\n",
    "plt.title('Training and Testing Recall')\n",
    "plt.legend()\n",
    "\n",
    "plt.show()\n"
   ]
  },
  {
   "cell_type": "code",
   "execution_count": null,
   "id": "e810b393-2262-4495-9c4d-87bc01b4bbce",
   "metadata": {},
   "outputs": [],
   "source": []
  },
  {
   "cell_type": "code",
   "execution_count": null,
   "id": "94a1f23e-b784-410e-8396-9727fd7be952",
   "metadata": {},
   "outputs": [],
   "source": []
  },
  {
   "cell_type": "code",
   "execution_count": null,
   "id": "b9499697-edad-4624-b781-8f47e247c2bf",
   "metadata": {},
   "outputs": [],
   "source": []
  },
  {
   "cell_type": "code",
   "execution_count": 22,
   "id": "1d89d29f-eba4-4e0b-a1ba-8cd674d6e759",
   "metadata": {},
   "outputs": [],
   "source": [
    "import os\n",
    "import nbformat\n",
    "\n",
    "def convert_notebook_to_script(script_name):\n",
    "    # Get the current working directory\n",
    "    notebook_dir = os.getcwd()\n",
    "    \n",
    "    # Assuming the notebook file is in the same directory\n",
    "    notebook_path = os.path.join(notebook_dir, 'transfer_learning_catsdogs.ipynb')\n",
    "    script_path = os.path.join(notebook_dir, script_name)\n",
    "\n",
    "    with open(notebook_path, 'r', encoding='utf-8') as nb_file:\n",
    "        nb_contents = nb_file.read()\n",
    "\n",
    "    notebook = nbformat.reads(nb_contents, as_version=4)\n",
    "\n",
    "    with open(script_path, 'w', encoding='utf-8') as script_file:\n",
    "        for cell in notebook.cells:\n",
    "            if cell.cell_type == 'code':\n",
    "                script_file.write(cell.source + '\\n\\n')\n",
    "\n",
    "# Call the function with your desired script name\n",
    "convert_notebook_to_script('transfer_learning_catsdogs.py')"
   ]
  },
  {
   "cell_type": "code",
   "execution_count": null,
   "id": "658c54fb-7ec8-4734-8342-2dfc703b145a",
   "metadata": {},
   "outputs": [],
   "source": []
  }
 ],
 "metadata": {
  "kernelspec": {
   "display_name": "Python 3 (ipykernel)",
   "language": "python",
   "name": "python3"
  },
  "language_info": {
   "codemirror_mode": {
    "name": "ipython",
    "version": 3
   },
   "file_extension": ".py",
   "mimetype": "text/x-python",
   "name": "python",
   "nbconvert_exporter": "python",
   "pygments_lexer": "ipython3",
   "version": "3.11.6"
  }
 },
 "nbformat": 4,
 "nbformat_minor": 5
}
