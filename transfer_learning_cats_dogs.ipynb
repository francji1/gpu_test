{
 "cells": [
  {
   "cell_type": "code",
   "execution_count": 8,
   "id": "06e743c1",
   "metadata": {},
   "outputs": [],
   "source": [
    "import os\n",
    "import zipfile\n",
    "import requests\n",
    "\n",
    "import torch\n",
    "import torch.nn as nn\n",
    "import torch.optim as optim\n",
    "import torchvision\n",
    "import torchvision.transforms as transforms\n",
    "from torchvision import models\n",
    "\n",
    "from io import BytesIO"
   ]
  },
  {
   "cell_type": "code",
   "execution_count": 2,
   "id": "5732616e",
   "metadata": {},
   "outputs": [
    {
     "name": "stderr",
     "output_type": "stream",
     "text": [
      "'wget' is not recognized as an internal or external command,\n",
      "operable program or batch file.\n",
      "'unzip' is not recognized as an internal or external command,\n",
      "operable program or batch file.\n",
      "'ls' is not recognized as an internal or external command,\n",
      "operable program or batch file.\n"
     ]
    }
   ],
   "source": [
    "\n",
    "# Downloading and extracting the dataset (Cats vs Dogs)\n",
    "!wget https://download.microsoft.com/download/3/E/1/3E1C3F21-E5C8-4431-9AD4-3DF3FF04978E/kagglecatsanddogs_3367a.zip\n",
    "!unzip -q kagglecatsanddogs_3367a.zip\n",
    "!ls PetImages\n"
   ]
  },
  {
   "cell_type": "code",
   "execution_count": 3,
   "id": "108db27b-f257-4fdf-90b2-bc266385376a",
   "metadata": {},
   "outputs": [
    {
     "name": "stdout",
     "output_type": "stream",
     "text": [
      "Failed to download a valid zip file. Please check the URL or your internet connection.\n"
     ]
    }
   ],
   "source": [
    "\n",
    "\n",
    "# Downloading the dataset with the new URL\n",
    "url = 'https://download.microsoft.com/download/3/E/1/3E1C3F21-ECDB-4869-8368-6DEBA77B919F/kagglecatsanddogs_5340.zip'\n",
    "response = requests.get(url)\n",
    "\n",
    "# Check if the response is valid and content is a zip file\n",
    "if response.status_code == 200 and 'zip' in response.headers.get('Content-Type', ''):\n",
    "    zip_file = zipfile.ZipFile(BytesIO(response.content))\n",
    "    # Extracting the dataset\n",
    "    zip_file.extractall('.')\n",
    "    # Listing the contents of the PetImages directory\n",
    "    print(os.listdir('PetImages'))\n",
    "else:\n",
    "    print(\"Failed to download a valid zip file. Please check the URL or your internet connection.\")\n",
    "\n"
   ]
  },
  {
   "cell_type": "code",
   "execution_count": 4,
   "id": "e7ba1f7c",
   "metadata": {},
   "outputs": [],
   "source": [
    "\n",
    "# Data transformations\n",
    "transform = transforms.Compose([\n",
    "    transforms.Resize((224, 224)),\n",
    "    transforms.ToTensor(),\n",
    "    transforms.Normalize(mean=[0.485, 0.456, 0.406], std=[0.229, 0.224, 0.225]),\n",
    "])\n",
    "\n",
    "# Loading dataset\n",
    "train_data = torchvision.datasets.ImageFolder(root='PetImages', transform=transform)\n",
    "train_loader = torch.utils.data.DataLoader(train_data, batch_size=32, shuffle=True)\n"
   ]
  },
  {
   "cell_type": "code",
   "execution_count": 9,
   "id": "5324fb70",
   "metadata": {},
   "outputs": [
    {
     "ename": "NameError",
     "evalue": "name 'ResNet18_Weights' is not defined",
     "output_type": "error",
     "traceback": [
      "\u001b[1;31m---------------------------------------------------------------------------\u001b[0m",
      "\u001b[1;31mNameError\u001b[0m                                 Traceback (most recent call last)",
      "Cell \u001b[1;32mIn[9], line 2\u001b[0m\n\u001b[0;32m      1\u001b[0m \u001b[38;5;66;03m# Loading a pretrained model (ResNet18) and modifying it for binary classification\u001b[39;00m\n\u001b[1;32m----> 2\u001b[0m model \u001b[38;5;241m=\u001b[39m models\u001b[38;5;241m.\u001b[39mresnet18(weights\u001b[38;5;241m=\u001b[39m\u001b[43mResNet18_Weights\u001b[49m\u001b[38;5;241m.\u001b[39mDEFAULT)\n\u001b[0;32m      3\u001b[0m num_ftrs \u001b[38;5;241m=\u001b[39m model\u001b[38;5;241m.\u001b[39mfc\u001b[38;5;241m.\u001b[39min_features\n\u001b[0;32m      4\u001b[0m model\u001b[38;5;241m.\u001b[39mfc \u001b[38;5;241m=\u001b[39m nn\u001b[38;5;241m.\u001b[39mLinear(num_ftrs, \u001b[38;5;241m2\u001b[39m)  \u001b[38;5;66;03m# Modifying for 2 classes: Cats and Dogs\u001b[39;00m\n",
      "\u001b[1;31mNameError\u001b[0m: name 'ResNet18_Weights' is not defined"
     ]
    }
   ],
   "source": [
    "# Loading a pretrained model (ResNet18) and modifying it for binary classification\n",
    "model = models.resnet18(weights=ResNet18_Weights.DEFAULT)\n",
    "num_ftrs = model.fc.in_features\n",
    "model.fc = nn.Linear(num_ftrs, 2)  # Modifying for 2 classes: Cats and Dogs\n",
    "\n",
    "# Checking if GPU is available and moving the model to GPU\n",
    "device = torch.device(\"cuda:0\" if torch.cuda.is_available() else \"cpu\")\n",
    "print(device)\n",
    "model = model.to(device)\n"
   ]
  },
  {
   "cell_type": "code",
   "execution_count": 6,
   "id": "f0b1d66e",
   "metadata": {},
   "outputs": [],
   "source": [
    "\n",
    "# Loss function and optimizer\n",
    "criterion = nn.CrossEntropyLoss()\n",
    "optimizer = optim.SGD(model.parameters(), lr=0.001, momentum=0.9)\n"
   ]
  },
  {
   "cell_type": "code",
   "execution_count": 7,
   "id": "44e8c6b2",
   "metadata": {},
   "outputs": [
    {
     "name": "stderr",
     "output_type": "stream",
     "text": [
      "C:\\Users\\francji1\\OneDrive\\gpu_test\\venv\\Lib\\site-packages\\PIL\\TiffImagePlugin.py:850: UserWarning: Truncated File Read\n",
      "  warnings.warn(str(msg))\n"
     ]
    },
    {
     "name": "stdout",
     "output_type": "stream",
     "text": [
      "[1,   100] loss: 0.170\n",
      "[1,   200] loss: 0.074\n",
      "[1,   300] loss: 0.055\n",
      "[1,   400] loss: 0.058\n",
      "[1,   500] loss: 0.064\n",
      "[1,   600] loss: 0.052\n",
      "[1,   700] loss: 0.045\n",
      "[2,   100] loss: 0.032\n",
      "[2,   200] loss: 0.024\n",
      "[2,   300] loss: 0.026\n",
      "[2,   400] loss: 0.032\n",
      "[2,   500] loss: 0.018\n",
      "[2,   600] loss: 0.027\n",
      "[2,   700] loss: 0.023\n",
      "Finished Training\n"
     ]
    }
   ],
   "source": [
    "\n",
    "# Training the model\n",
    "for epoch in range(2):  # Looping over the dataset multiple times\n",
    "    running_loss = 0.0\n",
    "    for i, data in enumerate(train_loader, 0):\n",
    "        inputs, labels = data[0].to(device), data[1].to(device)\n",
    "\n",
    "        optimizer.zero_grad()\n",
    "\n",
    "        outputs = model(inputs)\n",
    "        loss = criterion(outputs, labels)\n",
    "        loss.backward()\n",
    "        optimizer.step()\n",
    "\n",
    "        running_loss += loss.item()\n",
    "        if i % 100 == 99:    # Print every 100 mini-batches\n",
    "            print(f'[{epoch + 1}, {i + 1:5d}] loss: {running_loss / 100:.3f}')\n",
    "            running_loss = 0.0\n",
    "\n",
    "print('Finished Training')\n"
   ]
  },
  {
   "cell_type": "code",
   "execution_count": null,
   "id": "fb042a1f-2307-414f-9596-62b48e3eb5a3",
   "metadata": {},
   "outputs": [],
   "source": []
  },
  {
   "cell_type": "code",
   "execution_count": null,
   "id": "33705e65-cb4b-4876-9ed7-aedc7cfd74a1",
   "metadata": {},
   "outputs": [],
   "source": []
  },
  {
   "cell_type": "code",
   "execution_count": null,
   "id": "2141982d-6286-4017-b8f1-45c67fcf4d0d",
   "metadata": {},
   "outputs": [],
   "source": []
  },
  {
   "cell_type": "code",
   "execution_count": null,
   "id": "39605db3-ee37-44c8-8876-969e6845d248",
   "metadata": {},
   "outputs": [],
   "source": []
  }
 ],
 "metadata": {
  "kernelspec": {
   "display_name": "Python 3 (ipykernel)",
   "language": "python",
   "name": "python3"
  },
  "language_info": {
   "codemirror_mode": {
    "name": "ipython",
    "version": 3
   },
   "file_extension": ".py",
   "mimetype": "text/x-python",
   "name": "python",
   "nbconvert_exporter": "python",
   "pygments_lexer": "ipython3",
   "version": "3.11.6"
  }
 },
 "nbformat": 4,
 "nbformat_minor": 5
}
